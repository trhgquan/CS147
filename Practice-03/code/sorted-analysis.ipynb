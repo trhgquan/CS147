{
 "cells": [
  {
   "cell_type": "markdown",
   "metadata": {},
   "source": [
    "# Khảo sát số bước lặp để kiểm tra một mảng có được sắp xếp tăng hay không."
   ]
  },
  {
   "cell_type": "code",
   "execution_count": 3,
   "metadata": {},
   "outputs": [],
   "source": [
    "import numpy as np\n",
    "import random"
   ]
  },
  {
   "cell_type": "code",
   "execution_count": 23,
   "metadata": {},
   "outputs": [],
   "source": [
    "# Hàm sinh mảng ngẫu nhiên và đếm số vòng lặp\n",
    "def counting_loops(array_size, max_value):\n",
    "    testing_arr_ = np.asarray(np.random.randint(max_value, size = array_size))\n",
    "\n",
    "    loop_counting = 0;\n",
    "    for i in range(0, array_size - 1):\n",
    "        loop_counting += 1;\n",
    "\n",
    "        # Điều kiện dừng: xuất hiện 1 cặp nghịch thế.\n",
    "        if testing_arr_[i] > testing_arr_[i + 1]: break;\n",
    "\n",
    "    return loop_counting"
   ]
  },
  {
   "cell_type": "code",
   "execution_count": 24,
   "metadata": {},
   "outputs": [],
   "source": [
    "# Hàm tính kỳ vọng của một dictionary là bảng biến cố / tần suất\n",
    "def expected_value(table):\n",
    "    result = 0\n",
    "    for variable, frequency in table.items():\n",
    "        result += frequency * variable\n",
    "    return result"
   ]
  },
  {
   "cell_type": "code",
   "execution_count": 26,
   "metadata": {},
   "outputs": [],
   "source": [
    "# Hàm thực hiện khảo sát\n",
    "def do_test(total_samples, array_size, max_value):\n",
    "    expected_values_ = {}\n",
    "\n",
    "    for i in range(0, total_samples):\n",
    "        loop_counting = counting_loops(array_size, max_value)\n",
    "        if loop_counting in expected_values_:\n",
    "            expected_values_[loop_counting] += 1\n",
    "        else:\n",
    "            expected_values_[loop_counting] = 1\n",
    "\n",
    "    for variable, frequency in expected_values_.items():\n",
    "        expected_values_[variable] = frequency / total_samples\n",
    "    \n",
    "    return expected_values_"
   ]
  },
  {
   "cell_type": "markdown",
   "metadata": {},
   "source": [
    "# Tiến hành khảo sát\n",
    "\n",
    "## 1. Khảo sát trên mảng cặp $m = 1000, n = 1000$"
   ]
  },
  {
   "cell_type": "code",
   "execution_count": 33,
   "metadata": {},
   "outputs": [
    {
     "name": "stdout",
     "output_type": "stream",
     "text": [
      "{1: 0.5, 4: 0.02, 3: 0.22, 2: 0.26}\n",
      "1.76\n"
     ]
    }
   ],
   "source": [
    "# Khảo sát nhanh trên 10000 mảng có kích thước 1000 phần tử trong miền {0, .., 1000}\n",
    "TOTAL_SAMPLES = 10000\n",
    "ARRAY_SIZE = 1000 # m\n",
    "MAX_VALUE = 1000  # n\n",
    "\n",
    "expected_values_ = do_test(TOTAL_SAMPLES, ARRAY_SIZE, MAX_VALUE)\n",
    "\n",
    "print(expected_values_)\n",
    "print(expected_value(expected_values_))"
   ]
  },
  {
   "cell_type": "code",
   "execution_count": 31,
   "metadata": {},
   "outputs": [
    {
     "name": "stdout",
     "output_type": "stream",
     "text": [
      "{1: 0.508, 2: 0.321, 3: 0.124, 5: 0.01, 7: 0.001, 4: 0.033, 8: 0.001, 6: 0.001, 9: 0.001}\n",
      "1.7339999999999998\n"
     ]
    }
   ],
   "source": [
    "# Khảo sát nhanh trên 100000 mảng có kích thước 1000 phần tử trong miền {0, ..., 1000}\n",
    "TOTAL_SAMPLES = 100000\n",
    "\n",
    "expected_values_ = do_test(TOTAL_SAMPLES, ARRAY_SIZE, MAX_VALUE)\n",
    "\n",
    "print(expected_values_)\n",
    "print(expected_value(expected_values_))"
   ]
  },
  {
   "cell_type": "code",
   "execution_count": 32,
   "metadata": {},
   "outputs": [
    {
     "name": "stdout",
     "output_type": "stream",
     "text": [
      "{1: 0.499255, 3: 0.125204, 2: 0.333637, 4: 0.033441, 5: 0.007126, 7: 0.000162, 6: 0.001154, 8: 1.8e-05, 9: 3e-06}\n",
      "1.7197639999999998\n"
     ]
    }
   ],
   "source": [
    "# Khảo sát nhanh trên 10^6 mảng có kích thước 1000 phần tử trong miền {0, ..., 1000}\n",
    "TOTAL_SAMPLES = 1000000\n",
    "\n",
    "expected_values_ = do_test(TOTAL_SAMPLES, ARRAY_SIZE, MAX_VALUE)\n",
    "\n",
    "print(expected_values_)\n",
    "print(expected_value(expected_values_))"
   ]
  },
  {
   "cell_type": "markdown",
   "metadata": {},
   "source": [
    "## Khảo sát trên cặp mảng $m = 10000, n = 1000$"
   ]
  },
  {
   "cell_type": "code",
   "execution_count": 34,
   "metadata": {},
   "outputs": [
    {
     "name": "stdout",
     "output_type": "stream",
     "text": [
      "{1: 0.54, 2: 0.33, 3: 0.09, 4: 0.03, 5: 0.01}\n",
      "1.6400000000000003\n"
     ]
    }
   ],
   "source": [
    "# Khảo sát nhanh trên 10000 mảng có kích thước 1000 phần tử trong miền {0, .., 1000}\n",
    "TOTAL_SAMPLES = 10000\n",
    "ARRAY_SIZE = 10000 # m\n",
    "MAX_VALUE = 1000  # n\n",
    "\n",
    "expected_values_ = do_test(TOTAL_SAMPLES, ARRAY_SIZE, MAX_VALUE)\n",
    "\n",
    "print(expected_values_)\n",
    "print(expected_value(expected_values_))"
   ]
  },
  {
   "cell_type": "code",
   "execution_count": 38,
   "metadata": {},
   "outputs": [
    {
     "name": "stdout",
     "output_type": "stream",
     "text": [
      "{1: 0.49761, 2: 0.33321, 4: 0.03406, 3: 0.12697, 5: 0.00674, 6: 0.00116, 7: 0.00022, 9: 1e-05, 8: 2e-05}\n",
      "1.72363\n"
     ]
    }
   ],
   "source": [
    "# Khảo sát nhanh trên 100000 mảng có kích thước 1000 phần tử trong miền {0, .., 1000}\n",
    "TOTAL_SAMPLES = 100000\n",
    "ARRAY_SIZE = 10000 # m\n",
    "MAX_VALUE = 1000  # n\n",
    "\n",
    "expected_values_ = do_test(TOTAL_SAMPLES, ARRAY_SIZE, MAX_VALUE)\n",
    "\n",
    "print(expected_values_)\n",
    "print(expected_value(expected_values_))"
   ]
  },
  {
   "cell_type": "code",
   "execution_count": 39,
   "metadata": {},
   "outputs": [
    {
     "name": "stdout",
     "output_type": "stream",
     "text": [
      "{1: 0.500117, 2: 0.333006, 3: 0.125416, 4: 0.033112, 5: 0.006943, 6: 0.001201, 7: 0.000178, 8: 2.5e-05, 9: 2e-06}\n",
      "1.7182100000000005\n"
     ]
    }
   ],
   "source": [
    "# Khảo sát nhanh trên 10^6 mảng có kích thước 10000 phần tử trong miền {0, .., 1000}\n",
    "TOTAL_SAMPLES = 1000000\n",
    "ARRAY_SIZE = 10000 # m\n",
    "MAX_VALUE = 1000  # n\n",
    "\n",
    "expected_values_ = do_test(TOTAL_SAMPLES, ARRAY_SIZE, MAX_VALUE)\n",
    "\n",
    "print(expected_values_)\n",
    "print(expected_value(expected_values_))"
   ]
  },
  {
   "cell_type": "markdown",
   "metadata": {},
   "source": [
    "Dễ dàng nhận thấy, các giá trị $E(X)$ dần hội tụ về 1.72"
   ]
  }
 ],
 "metadata": {
  "interpreter": {
   "hash": "0a67b383376bbc3f268150e8a766376259116456469e7f7cea52e2e925b8a72d"
  },
  "kernelspec": {
   "display_name": "Python 3.9.7 64-bit",
   "language": "python",
   "name": "python3"
  },
  "language_info": {
   "codemirror_mode": {
    "name": "ipython",
    "version": 3
   },
   "file_extension": ".py",
   "mimetype": "text/x-python",
   "name": "python",
   "nbconvert_exporter": "python",
   "pygments_lexer": "ipython3",
   "version": "3.9.7"
  },
  "orig_nbformat": 4
 },
 "nbformat": 4,
 "nbformat_minor": 2
}
